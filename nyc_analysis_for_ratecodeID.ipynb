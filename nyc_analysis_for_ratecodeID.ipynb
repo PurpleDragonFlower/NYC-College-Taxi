{
 "cells": [
  {
   "cell_type": "code",
   "execution_count": 32,
   "metadata": {
    "collapsed": true
   },
   "outputs": [],
   "source": [
    "import pandas as pd\n",
    "from sklearn.model_selection import train_test_split\n",
    "from sklearn import metrics as ms\n",
    "\n",
    "#Algorithms packages from scikit-learn\n",
    "from sklearn.linear_model import LogisticRegression\n",
    "from sklearn.ensemble import AdaBoostClassifier\n",
    "from sklearn.ensemble import RandomForestClassifier\n",
    "from sklearn.naive_bayes import GaussianNB\n",
    "from sklearn.neighbors import KNeighborsClassifier\n",
    "from sklearn.neural_network import MLPClassifier\n",
    "from sklearn.svm import LinearSVC\n",
    "from sklearn.ensemble import VotingClassifier"
   ]
  },
  {
   "cell_type": "code",
   "execution_count": 33,
   "metadata": {
    "collapsed": true
   },
   "outputs": [],
   "source": [
    "df_no_datetime = pd.read_csv(\"no_datetime.csv\")\n",
    "df_min_pickup = pd.read_csv(\"pickup_in_mins.csv\")\n",
    "df_hrs_pickup = pd.read_csv(\"pickup_in_hrs.csv\")"
   ]
  },
  {
   "cell_type": "code",
   "execution_count": 34,
   "metadata": {},
   "outputs": [
    {
     "name": "stdout",
     "output_type": "stream",
     "text": [
      "(69280, 19) (69280, 20) (69280, 20)\n"
     ]
    }
   ],
   "source": [
    "print df_no_datetime.shape, df_min_pickup.shape, df_hrs_pickup.shape"
   ]
  },
  {
   "cell_type": "code",
   "execution_count": 35,
   "metadata": {},
   "outputs": [],
   "source": [
    "lr = LogisticRegression(random_state=1)\n",
    "rfc = RandomForestClassifier(random_state=1)\n",
    "gnb = GaussianNB()\n",
    "ada = AdaBoostClassifier(random_state=1)\n",
    "knn = KNeighborsClassifier()\n",
    "mlp = MLPClassifier()\n",
    "svc = LinearSVC()"
   ]
  },
  {
   "cell_type": "code",
   "execution_count": 36,
   "metadata": {},
   "outputs": [
    {
     "name": "stdout",
     "output_type": "stream",
     "text": [
      "0.959716572628 0.960853781219\n"
     ]
    }
   ],
   "source": [
    "X = df_no_datetime.iloc[:,:]\n",
    "X = X.drop(\"payment_type\", 1)\n",
    "y = df_no_datetime.iloc[:,8]\n",
    "X_train, X_test, y_train, y_test = train_test_split(X, y, test_size=0.33, random_state=42)\n",
    "eclf1 = VotingClassifier(estimators=[('lr', lr), ('rf', rfc), ('gnb', gnb), ('ada', ada), ('knn', knn), ('mlp', mlp)], \n",
    "                         voting='hard')\n",
    "eclf1 = eclf1.fit(X_train, y_train)\n",
    "y_pred1 = eclf1.predict(X_test)\n",
    "eclf2 = VotingClassifier(estimators=[('lr', lr), ('rf', rfc), ('gnb', gnb), ('ada', ada), ('knn', knn), ('mlp', mlp)], \n",
    "                         voting='soft')\n",
    "eclf2 = eclf1.fit(X_train, y_train)\n",
    "y_pred2 = eclf1.predict(X_test)\n",
    "print ms.accuracy_score(y_test, y_pred1), ms.accuracy_score(y_test, y_pred2)"
   ]
  },
  {
   "cell_type": "code",
   "execution_count": 37,
   "metadata": {},
   "outputs": [
    {
     "name": "stdout",
     "output_type": "stream",
     "text": [
      "0.960766303635 0.960766303635\n"
     ]
    }
   ],
   "source": [
    "X = df_min_pickup.iloc[:,:]\n",
    "X = X.drop(\"payment_type\", 1)\n",
    "y = df_min_pickup.iloc[:,9]\n",
    "X_train, X_test, y_train, y_test = train_test_split(X, y, test_size=0.33, random_state=42)\n",
    "eclf1 = VotingClassifier(estimators=[('lr', lr), ('rf', rfc), ('gnb', gnb), ('ada', ada), ('knn', knn), ('mlp', mlp)], \n",
    "                         voting='hard')\n",
    "eclf1 = eclf1.fit(X_train, y_train)\n",
    "y_pred1 = eclf1.predict(X_test)\n",
    "eclf2 = VotingClassifier(estimators=[('lr', lr), ('rf', rfc), ('gnb', gnb), ('ada', ada), ('knn', knn), ('mlp', mlp)], \n",
    "                         voting='soft')\n",
    "eclf2 = eclf1.fit(X_train, y_train)\n",
    "y_pred2 = eclf1.predict(X_test)\n",
    "print ms.accuracy_score(y_test, y_pred1), ms.accuracy_score(y_test, y_pred2)"
   ]
  },
  {
   "cell_type": "code",
   "execution_count": 39,
   "metadata": {},
   "outputs": [
    {
     "name": "stdout",
     "output_type": "stream",
     "text": [
      "0.960591348467 0.957835804575\n"
     ]
    }
   ],
   "source": [
    "X = df_hrs_pickup.iloc[:,:]\n",
    "X = X.drop(\"payment_type\", 1)\n",
    "y = df_hrs_pickup.iloc[:,9]\n",
    "X_train, X_test, y_train, y_test = train_test_split(X, y, test_size=0.33, random_state=42)\n",
    "eclf1 = VotingClassifier(estimators=[('lr', lr), ('rf', rfc), ('gnb', gnb), ('ada', ada), ('knn', knn), ('mlp', mlp)], \n",
    "                         voting='hard')\n",
    "eclf1 = eclf1.fit(X_train, y_train)\n",
    "y_pred1 = eclf1.predict(X_test)\n",
    "eclf2 = VotingClassifier(estimators=[('lr', lr), ('rf', rfc), ('gnb', gnb), ('ada', ada), ('knn', knn), ('mlp', mlp)], \n",
    "                         voting='soft')\n",
    "eclf2 = eclf1.fit(X_train, y_train)\n",
    "y_pred2 = eclf1.predict(X_test)\n",
    "print ms.accuracy_score(y_test, y_pred1), ms.accuracy_score(y_test, y_pred2)"
   ]
  },
  {
   "cell_type": "code",
   "execution_count": 41,
   "metadata": {},
   "outputs": [
    {
     "data": {
      "text/plain": [
       "0        1\n",
       "1        2\n",
       "2        2\n",
       "3        2\n",
       "4        1\n",
       "5        1\n",
       "6        2\n",
       "7        2\n",
       "8        1\n",
       "9        1\n",
       "10       1\n",
       "11       1\n",
       "12       1\n",
       "13       1\n",
       "14       2\n",
       "15       1\n",
       "16       2\n",
       "17       1\n",
       "18       2\n",
       "19       1\n",
       "20       1\n",
       "21       2\n",
       "22       1\n",
       "23       1\n",
       "24       2\n",
       "25       2\n",
       "26       2\n",
       "27       2\n",
       "28       1\n",
       "29       1\n",
       "        ..\n",
       "69250    1\n",
       "69251    1\n",
       "69252    1\n",
       "69253    1\n",
       "69254    1\n",
       "69255    1\n",
       "69256    2\n",
       "69257    1\n",
       "69258    2\n",
       "69259    2\n",
       "69260    1\n",
       "69261    2\n",
       "69262    1\n",
       "69263    1\n",
       "69264    1\n",
       "69265    2\n",
       "69266    1\n",
       "69267    1\n",
       "69268    1\n",
       "69269    2\n",
       "69270    2\n",
       "69271    1\n",
       "69272    1\n",
       "69273    1\n",
       "69274    2\n",
       "69275    2\n",
       "69276    1\n",
       "69277    1\n",
       "69278    1\n",
       "69279    1\n",
       "Name: payment_type, Length: 69280, dtype: int64"
      ]
     },
     "execution_count": 41,
     "metadata": {},
     "output_type": "execute_result"
    }
   ],
   "source": [
    "df_hrs_pickup.payment_type"
   ]
  },
  {
   "cell_type": "code",
   "execution_count": null,
   "metadata": {
    "collapsed": true
   },
   "outputs": [],
   "source": []
  }
 ],
 "metadata": {
  "kernelspec": {
   "display_name": "Python 2",
   "language": "python",
   "name": "python2"
  },
  "language_info": {
   "codemirror_mode": {
    "name": "ipython",
    "version": 2
   },
   "file_extension": ".py",
   "mimetype": "text/x-python",
   "name": "python",
   "nbconvert_exporter": "python",
   "pygments_lexer": "ipython2",
   "version": "2.7.14"
  }
 },
 "nbformat": 4,
 "nbformat_minor": 2
}
