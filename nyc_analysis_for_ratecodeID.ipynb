{
 "cells": [
  {
   "cell_type": "code",
   "execution_count": 6,
   "metadata": {
    "collapsed": true
   },
   "outputs": [],
   "source": [
    "import pandas as pd\n",
    "from sklearn.model_selection import train_test_split\n",
    "from sklearn import metrics as ms\n",
    "\n",
    "#Algorithms packages from scikit-learn\n",
    "from sklearn.linear_model import LogisticRegression\n",
    "from sklearn.ensemble import AdaBoostClassifier\n",
    "from sklearn.ensemble import RandomForestClassifier\n",
    "from sklearn.naive_bayes import GaussianNB\n",
    "from sklearn.neighbors import KNeighborsClassifier\n",
    "from sklearn.neural_network import MLPClassifier\n",
    "from sklearn.svm import LinearSVC\n",
    "from sklearn.ensemble import VotingClassifier"
   ]
  },
  {
   "cell_type": "code",
   "execution_count": 3,
   "metadata": {
    "collapsed": true
   },
   "outputs": [],
   "source": [
    "df_no_datetime = pd.read_csv(\"no_datetime.csv\")\n",
    "df_min_pickup = pd.read_csv(\"pickup_in_mins.csv\")\n",
    "df_hrs_pickup = pd.read_csv(\"pickup_in_hrs.csv\")"
   ]
  },
  {
   "cell_type": "code",
   "execution_count": 4,
   "metadata": {},
   "outputs": [
    {
     "name": "stdout",
     "output_type": "stream",
     "text": [
      "(69280, 19) (69280, 20) (69280, 20)\n"
     ]
    }
   ],
   "source": [
    "print df_no_datetime.shape, df_min_pickup.shape, df_hrs_pickup.shape"
   ]
  },
  {
   "cell_type": "code",
   "execution_count": 9,
   "metadata": {},
   "outputs": [],
   "source": [
    "lr = LogisticRegression(random_state=1)\n",
    "rfc = RandomForestClassifier(random_state=1)\n",
    "gnb = GaussianNB()\n",
    "ada = AdaBoostClassifier(random_state=1)\n",
    "knn = KNeighborsClassifier()\n",
    "mlp = MLPClassifier()\n",
    "svc = LinearSVC()"
   ]
  },
  {
   "cell_type": "code",
   "execution_count": 15,
   "metadata": {},
   "outputs": [],
   "source": [
    "X = df_no_datetime.iloc[:,:]\n",
    "X = X.drop(\"payment_type\", 1)\n",
    "y = df_no_datetime.iloc[:,8]\n",
    "X_train, X_test, y_train, y_test = train_test_split(X, y, test_size=0.33, random_state=42)\n",
    "eclf1 = VotingClassifier(estimators=[('lr', lr), ('rf', rfc), ('gnb', gnb), ('ada', ada), ('knn', knn), ('mlp', mlp)], \n",
    "                         voting='hard')\n",
    "eclf1 = eclf1.fit(X_train, y_train)\n",
    "y_pred1 = eclf1.predict(X_test)\n",
    "eclf2 = VotingClassifier(estimators=[('lr', lr), ('rf', rfc), ('gnb', gnb), ('ada', ada), ('knn', knn), ('mlp', mlp)], \n",
    "                         voting='soft')\n",
    "eclf2 = eclf1.fit(X_train, y_train)\n",
    "y_pred2 = eclf1.predict(X_test)"
   ]
  },
  {
   "cell_type": "code",
   "execution_count": 20,
   "metadata": {},
   "outputs": [
    {
     "name": "stdout",
     "output_type": "stream",
     "text": [
      "0.960460132091 0.958448147662\n"
     ]
    }
   ],
   "source": [
    "print ms.accuracy_score(y_test, y_pred1), ms.accuracy_score(y_test, y_pred2)"
   ]
  },
  {
   "cell_type": "code",
   "execution_count": null,
   "metadata": {
    "collapsed": true
   },
   "outputs": [],
   "source": [
    "X = df_no_datetime.iloc[:,:]\n",
    "X = X.drop(\"payment_type\", 1)\n",
    "y = df_no_datetime.iloc[:,8]\n",
    "X_train, X_test, y_train, y_test = train_test_split(X, y, test_size=0.33, random_state=42)\n",
    "eclf1 = VotingClassifier(estimators=[('lr', lr), ('rf', rfc), ('gnb', gnb), ('ada', ada), ('knn', knn), ('mlp', mlp)], \n",
    "                         voting='hard')\n",
    "eclf1 = eclf1.fit(X_train, y_train)\n",
    "y_pred1 = eclf1.predict(X_test)\n",
    "eclf2 = VotingClassifier(estimators=[('lr', lr), ('rf', rfc), ('gnb', gnb), ('ada', ada), ('knn', knn), ('mlp', mlp)], \n",
    "                         voting='soft')\n",
    "eclf2 = eclf1.fit(X_train, y_train)\n",
    "y_pred2 = eclf1.predict(X_test)"
   ]
  },
  {
   "cell_type": "code",
   "execution_count": null,
   "metadata": {
    "collapsed": true
   },
   "outputs": [],
   "source": [
    "X = df_no_datetime.iloc[:,:]\n",
    "X = X.drop(\"payment_type\", 1)\n",
    "y = df_no_datetime.iloc[:,8]\n",
    "X_train, X_test, y_train, y_test = train_test_split(X, y, test_size=0.33, random_state=42)\n",
    "eclf1 = VotingClassifier(estimators=[('lr', lr), ('rf', rfc), ('gnb', gnb), ('ada', ada), ('knn', knn), ('mlp', mlp)], \n",
    "                         voting='hard')\n",
    "eclf1 = eclf1.fit(X_train, y_train)\n",
    "y_pred1 = eclf1.predict(X_test)\n",
    "eclf2 = VotingClassifier(estimators=[('lr', lr), ('rf', rfc), ('gnb', gnb), ('ada', ada), ('knn', knn), ('mlp', mlp)], \n",
    "                         voting='soft')\n",
    "eclf2 = eclf1.fit(X_train, y_train)\n",
    "y_pred2 = eclf1.predict(X_test)"
   ]
  }
 ],
 "metadata": {
  "kernelspec": {
   "display_name": "Python 2",
   "language": "python",
   "name": "python2"
  },
  "language_info": {
   "codemirror_mode": {
    "name": "ipython",
    "version": 2
   },
   "file_extension": ".py",
   "mimetype": "text/x-python",
   "name": "python",
   "nbconvert_exporter": "python",
   "pygments_lexer": "ipython2",
   "version": "2.7.14"
  }
 },
 "nbformat": 4,
 "nbformat_minor": 2
}
